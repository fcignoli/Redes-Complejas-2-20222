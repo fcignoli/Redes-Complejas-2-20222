{
  "nbformat": 4,
  "nbformat_minor": 0,
  "metadata": {
    "colab": {
      "provenance": [],
      "authorship_tag": "ABX9TyM1LCUoHjqbXGWP9pm0nX/2",
      "include_colab_link": true
    },
    "kernelspec": {
      "name": "python3",
      "display_name": "Python 3"
    },
    "language_info": {
      "name": "python"
    }
  },
  "cells": [
    {
      "cell_type": "markdown",
      "metadata": {
        "id": "view-in-github",
        "colab_type": "text"
      },
      "source": [
        "<a href=\"https://colab.research.google.com/github/fcignoli/Redes-Complejas-2-20222/blob/main/pasar_texto_a_grafo.ipynb\" target=\"_parent\"><img src=\"https://colab.research.google.com/assets/colab-badge.svg\" alt=\"Open In Colab\"/></a>"
      ]
    },
    {
      "cell_type": "code",
      "execution_count": 1,
      "metadata": {
        "colab": {
          "base_uri": "https://localhost:8080/"
        },
        "id": "FRPTIwCycsKU",
        "outputId": "62f3a409-630d-4297-ea38-268ba27cc34c"
      },
      "outputs": [
        {
          "output_type": "stream",
          "name": "stderr",
          "text": [
            "[nltk_data] Downloading package punkt to /root/nltk_data...\n",
            "[nltk_data]   Unzipping tokenizers/punkt.zip.\n",
            "[nltk_data] Downloading package stopwords to /root/nltk_data...\n",
            "[nltk_data]   Unzipping corpora/stopwords.zip.\n"
          ]
        },
        {
          "output_type": "execute_result",
          "data": {
            "text/plain": [
              "True"
            ]
          },
          "metadata": {},
          "execution_count": 1
        }
      ],
      "source": [
        "#Librerias necesarias\n",
        "#!pip install nltk\n",
        "!pip install PyPDF2\n",
        "\n",
        "import nltk, string\n",
        "from sklearn.feature_extraction.text import TfidfVectorizer\n",
        "import numpy as np\n",
        "import matplotlib.pyplot as plt\n",
        "import seaborn as sns\n",
        "sns.set_theme(style=\"darkgrid\")\n",
        "import networkx as nx\n",
        "\n",
        "nltk.download('punkt') # if necessary...\n",
        "nltk.download(\"stopwords\")"
      ]
    },
    {
      "cell_type": "code",
      "execution_count": 2,
      "metadata": {
        "colab": {
          "base_uri": "https://localhost:8080/"
        },
        "id": "5gd4mNrgdMnk",
        "outputId": "d85dabbc-252d-4f4e-9a1e-45450573931d"
      },
      "outputs": [
        {
          "output_type": "stream",
          "name": "stderr",
          "text": [
            "/usr/local/lib/python3.7/dist-packages/sklearn/feature_extraction/text.py:401: UserWarning: Your stop_words may be inconsistent with your preprocessing. Tokenizing the stop words generated tokens ['alguna', 'alguno', 'ant', 'desd', 'dond', 'durant', 'ello', 'entr', 'erai', 'ere', 'est', 'estabai', 'estamo', 'estaremo', 'estaréi', 'estaríai', 'estaríamo', 'estemo', 'estuv', 'estuvierai', 'estuvies', 'estuviesei', 'estuvimo', 'estuvist', 'estuvistei', 'estuviéramo', 'estuviésemo', 'estábamo', 'estái', 'estéi', 'fuerai', 'fues', 'fuesei', 'fuimo', 'fuist', 'fuistei', 'fuéramo', 'fuésemo', 'habremo', 'habréi', 'habríai', 'habríamo', 'habéi', 'habíai', 'habíamo', 'hayamo', 'hayái', 'hemo', 'hubierai', 'hubies', 'hubiesei', 'hubimo', 'hubist', 'hubistei', 'hubiéramo', 'hubiésemo', 'má', 'nosotra', 'nosotro', 'porqu', 'seamo', 'seremo', 'seréi', 'seríai', 'seríamo', 'seái', 'sient', 'sobr', 'soi', 'somo', 'tendremo', 'tendréi', 'tendríai', 'tendríamo', 'tene', 'tenemo', 'tengamo', 'tengái', 'tenéi', 'teníai', 'teníamo', 'tien', 'tuvierai', 'tuvies', 'tuviesei', 'tuvimo', 'tuvist', 'tuvistei', 'tuviéramo', 'tuviésemo', 'vosotra', 'vosotro', 'éramo'] not in stop_words.\n",
            "  % sorted(inconsistent)\n"
          ]
        },
        {
          "output_type": "execute_result",
          "data": {
            "text/plain": [
              "0.010239435078630127"
            ]
          },
          "metadata": {},
          "execution_count": 2
        }
      ],
      "source": [
        "idioma='spanish'\n",
        "stopwords = nltk.corpus.stopwords.words(idioma)\n",
        "stemmer = nltk.stem.porter.PorterStemmer()\n",
        "remove_punctuation_map = dict((ord(char), None) for char in string.punctuation)\n",
        "\n",
        "def stem_tokens(tokens):\n",
        "    return [stemmer.stem(item) for item in tokens]\n",
        "\n",
        "'''remove punctuation, lowercase, stem'''\n",
        "def normalize(text):\n",
        "    return stem_tokens(nltk.word_tokenize(text.lower().translate(remove_punctuation_map)))\n",
        "\n",
        "vectorizer = TfidfVectorizer(tokenizer=normalize, stop_words=stopwords)\n",
        "\n",
        "def cosine_sim(text1, text2):\n",
        "    tfidf = vectorizer.fit_transform([text1, text2])\n",
        "    return ((tfidf * tfidf.T).A)[0,1]\n",
        "\n",
        "def similitud(copus):\n",
        "  A=np.empty([len(corpus), len(corpus)])\n",
        "  for i in np.arange(0,len(corpus),1):\n",
        "    for j in np.arange(0,len(corpus),1):\n",
        "      A[i,j]=cosine_sim(corpus[i], corpus[j])\n",
        "  return A\n",
        "\n"
      ]
    },
    {
      "cell_type": "code",
      "source": [
        "#probemos si funciona\n",
        "\n",
        "text1='Las palabras de De Pedro, en definitiva, comprometen a Massa para que apure la medida que quiere el kirchnerismo y marcan una distancia con Fernández, que viene diciendo -en público y en privado- que no considera apropiado avanzar con un aumento por suma fija. Un efecto similar al que generó ayer Cristina Kirchner cuando cuestionó con dureza el aumento de la medicina prepaga y advirtió, vía Twitter, que “agrava el proceso inflacionario”.'\n",
        "text2='Con este acuerdo, Moyano ratifica la volatilidad del mapa salarial y confirma que las negociaciones ya se plantean por encima del 100 por ciento. Significa el triple del índice de inflación anual [33%] que proyectó Martín Guzmán en el presupuesto 2022, que no pasó el filtro del Congreso, y un 20% por arriba de la última pauta salarial de referencia que estableció el Estado en su rol de empleador, hace dos meses, cuando pactó una suba de 80% para los trabajadores de YPF.'\n",
        "text3='Lo que ocurrió fue que mientras el hombre disparaba en la zona de la dirección, profesores y estudiantes bloqueaban las puertas de sus aulas, según señaló el medio puntano La Gaceta Digital. Además, los estudiantes intercambiaban mensajes de audio entre sí sobre los movimientos del atacante que habría realizado también varios disparos al aires antes de encerrarse.'\n",
        "text4='Angel Di María también está lesionado. Tiene un desgarro leve que lo tendrá inactivo 20 días, según el parte médico de Juventus, que comunicó días atrás: “Lesión de bajo grado en el isquiotibial del muslo derecho. Tardará unos 20 días en recuperarse por completo”. De esta manera, cuenta con margen para recuperarse y llegar con lo justo para el debut en el Mundial Qatar 2022. “Nosotros estamos muy contentos con él; no sólo porque cuando juega, juega bien. Entiende muy bien el juego, es un chico positivo para el grupo”, contó, tiempo atrás, el conductor del equipo nacional.'\n",
        "text5='A poco más de tres semanas de Qatar, el volante, de 28 años, fue reemplazado por Enrique Fernández, de 19 años. Salió por sus propios medios, pero con evidentes muestras de dolor. Si es un desgarro, llega con lo justo. O no llega, a la cita máxima del fútbol. Es el reemplazante natural de Leandro Paredes, también lesionado, en Juventus, sobre todo cuando el equipo precisa de mayor rigor en la marca, por sobre el manejo natural del jugador surgido en Boca. Rodríguez, está claro, no es uno más para Scaloni.'\n",
        "text6='The last national defense strategy, published in 2018 by the Trump administration, was the first since the end of the Cold War to refocus U.S. defenses on what it called the twin “revisionist” powers of China and Russia. President Biden’s document builds on that theme but distinguishes between describing China as a “pacing” technological and military challenger, and Russia as an “acute” threat but a declining power.'\n",
        "text7='Threats from Iran, North Korea and terrorist groups like Al Qaeda and the Islamic State persist — and new challenges, like global climate change, are emerging. But the strategy document focuses heavily on China and Russia.'\n",
        "text8='In scientific papers published Thursday, scientists using data from two NASA spacecraft reveal that the seismic event was not the cracking of rocks from the internal stresses of the red planet. Instead, it was shock waves emanating from a space rock hitting Mars. The discovery will help scientists better understand what is inside Mars and serves as a reminder that just like Earth, Mars gets whacked by meteors too.'\n",
        "\n",
        "\n",
        "#cosine_sim('La mesa es roja y grande. La usamos para comer y estudiar. Hay otras mesas en la casa: las mesas de luz, la que esta al lado del baño, la mesita de la tele', 'Existen muchos tipos de mesas en el catalogo. Mesas de comedor, mesas de noche, mesas de jardin, mesas ratonas. Hay mesas que diversos materiales: plastico, madera, metal.')\n",
        "#print cosine_sim('a little bird', 'a little bird chirps')\n",
        "#print cosine_sim('a little bird', 'a big dog barks')\n",
        "cosine_sim(text1,text5) #probemos como funciona"
      ],
      "metadata": {
        "id": "MTsbEMtddfUK"
      },
      "execution_count": null,
      "outputs": []
    },
    {
      "cell_type": "code",
      "source": [
        "corpus = [ \"El hombre que desembarcó en Buenos Aires en 1871 se llamaba Johannes Dahlmann y era pastor de la Iglesia evangélica; en 1939, uno de sus nietos, Juan Dahlmann, era secretario de una biblioteca municipal en la calle Córdoba y se sentía hondamente argentino. Su abuelo materno había sido aquel Francisco Flores, del 2 de infantería de línea, que murió en la frontera de Buenos Aires, lanceado por indios de Catriel: en la discordia de sus dos linajes, Juan Dahlmann (tal vez a impulso de la sangre germánica) eligió el de ese antepasado romántico, o de muerte romántica. Un estuche con el daguerrotipo de un hombre inexpresivo y barbado, una vieja espada, la dicha y el coraje de ciertas músicas, el hábito de estrofas del Martín Fierro, los años, el desgano y la soledad, fomentaron ese criollismo algo voluntario, pero nunca ostentoso. A costa de algunas privaciones, Dahlmann había logrado salvar el casco de una estancia en el Sur, que fue de los Flores: una de las costumbres de su memoria era la imagen de los eucaliptos balsámicos y de la larga casa rosada que alguna vez fue carmesí. Las tareas y acaso la indolencia lo retenían en la ciudad. Verano tras verano se contentaba con la idea abstracta de posesión y con la certidumbre de que su casa estaba esperándolo, en un sitio preciso de la llanura. En los últimos días de febrero de 1939, algo le aconteció.\",\n",
        "          \"Ciego a las culpas, el destino puede ser despiadado con las mínimas distracciones. Dahlmann había conseguido, esa tarde, un ejemplar descabalado de Las Mil y Una Noches de Weil; ávido de examinar ese hallazgo, no esperó que bajara el ascensor y subió con apuro las escaleras; algo en la oscuridad le rozó la frente, ¿un murciélago, un pájaro? En la cara de la mujer que le abrió la puerta vio grabado el horror, y la mano que se pasó por la frente salió roja de sangre. La arista de un batiente recién pintado que alguien se olvidó de cerrar le habría hecho esa herida. Dahlmann logró dormir, pero a la madrugada estaba despierto y desde aquella hora el sabor de todas las cosas fue atroz. La fiebre lo gastó y las ilustraciones de Las Mil y Una Noches sirvieron para decorar pasadillas. Amigos y parientes lo visitaban y con exagerada sonrisa le repetían que lo hallaban muy bien. Dahlmann los oía con una especie de débil estupor y le maravillaba que no supieran que estaba en el infierno. Ocho días pasaron, como ocho siglos. Una tarde, el médico habitual se presentó con un médico nuevo y lo condujeron a un sanatorio de la calle Ecuador, porque era indispensable sacarle una radiografía. Dahlmann, en el coche de plaza que los llevó, pensó que en una habitación que no fuera la suya podría, al fin, dormir. Se sintió feliz y conversador; en cuanto llegó, lo desvistieron; le raparon la cabeza, lo sujetaron con metales a una camilla, lo iluminaron hasta la ceguera y el vértigo, lo auscultaron y un hombre enmascarado le clavó una aguja en el brazo. Se despertó con náuseas, vendado, en una celda que tenía algo de pozo y, en los días y noches que siguieron a la operación pudo entender que apenas había estado, hasta entonces, en un arrabal del infierno. El hielo no dejaba en su boca el menor rastro de frescura. En esos días, Dahlmann minuciosamente se odió; odió su identidad, sus necesidades corporales, su humillación, la barba que le erizaba la cara. Sufrió con estoicismo las curaciones, que eran muy dolorosas, pero cuando el cirujano le dijo que había estado a punto de morir de una septicemia, Dahlmann se echó a llorar, condolido de su destino. Las miserias físicas y la incesante previsión de las malas noches no le habían dejado pensar en algo tan abstracto como la muerte. Otro día, el cirujano le dijo que estaba reponiéndose y que, muy pronto, podría ir a convalecer a la estancia. Increíblemente, el día prometido llegó.\",\n",
        "          \"A la realidad le gustan las simetrías y los leves anacronismos; Dahlmann había llegado al sanatorio en un coche de plaza y ahora un coche de plaza lo llevaba a Constitución. La primera frescura del otoño, después de la opresión del verano, era como un símbolo natural de su destino rescatado de la muerte y la fiebre. La ciudad, a las siete de la mañana, no había perdido ese aire de casa vieja que le infunde la noche; las calles eran como largos zaguanes, las plazas como patios. Dahlmann la reconocía con felicidad y con un principio de vértigo; unos segundos antes de que las registraran sus ojos, recordaba las esquinas, las carteleras, las modestas diferencias de Buenos Aires. En la luz amarilla del nuevo día, todas las cosas regresaban a él.\",\n",
        "          \"Nadie ignora que el Sur empieza del otro lado de Rivadavia. Dahlmann solía repetir que ello no es una convención y que quien atraviesa esa calle entra en un mundo más antiguo y más firme. Desde el coche buscaba entre la nueva edificación, la ventana de rejas, el llamador, el arco de la puerta, el zaguán, el íntimo patio.\",\n",
        "          \"En el hall de la estación advirtió que faltaban treinta minutos. Recordó bruscamente que en un café de la calle Brasil (a pocos metros de la casa de Yrigoyen) había un enorme gato que se dejaba acariciar por la gente, como una divinidad desdeñosa. Entró. Ahí estaba el gato, dormido. Pidió una taza de café, la endulzó lentamente, la probó (ese placer le había sido vedado en la clínica) y pensó, mientras alisaba el negro pelaje, que aquel contacto era ilusorio y que estaban como separados por un cristal, porque el hombre vive en el tiempo, en la sucesión, y el mágico animal, en la actualidad, en la eternidad del instante.\",\n",
        "          \"A lo largo del penúltimo andén el tren esperaba. Dahlmann recorrió los vagones y dio con uno casi vacío. Acomodó en la red la valija; cuando los coches arrancaron, la abrió y sacó, tras alguna vacilación, el primer tomo de Las Mil y Una Noches. Viajar con este libro, tan vinculado a la historia de su desdicha, era una afirmación de que esa desdicha había sido anulada y un desafío alegre y secreto a las frustradas fuerzas del mal.\",\n",
        "          \"A los lados del tren, la ciudad se desgarraba en suburbios; esta visión y luego la de jardines y quintas demoraron el principio de la lectura. La verdad es que Dahlmann leyó poco; la montaña de piedra imán y el genio que ha jurado matar a su bienhechor eran, quién lo niega, maravillosos, pero no mucho más que la mañana y que el hecho de ser. La felicidad lo distraía de Shahrazad y de sus milagros superfluos; Dahlmann cerraba el libro y se dejaba simplemente vivir.\"]\n",
        "\n",
        "text1=corpus[0]\n",
        "text2=corpus[1]\n",
        "\n",
        "A=similitud(corpus)\n",
        "\n",
        "A_filtrada= (A > 0.06).astype(int)-np.identity(len(A))\n",
        "\n",
        "G = nx.from_numpy_matrix(A_filtrada)\n",
        "pos = nx.spring_layout(G)\n",
        "plt.figure(figsize=(10,10))\n",
        "values=np.linspace(1,100,len(corpus))\n",
        "nx.draw(G,pos, cmap=plt.get_cmap('viridis'), node_color=values, with_labels=True, font_color='white')"
      ],
      "metadata": {
        "id": "GsjqPK1pC44-",
        "colab": {
          "base_uri": "https://localhost:8080/",
          "height": 751
        },
        "outputId": "c7ea8926-48dc-4aa1-cffe-72307b49b08f"
      },
      "execution_count": 3,
      "outputs": [
        {
          "output_type": "display_data",
          "data": {
            "text/plain": [
              "<Figure size 720x720 with 1 Axes>"
            ],
            "image/png": "[encoded data removed]"
          },
          "metadata": {}
        }
      ]
    },
    {
      "cell_type": "code",
      "source": [],
      "metadata": {
        "id": "EpxvED-HdkZl"
      },
      "execution_count": null,
      "outputs": []
    }
  ]
}