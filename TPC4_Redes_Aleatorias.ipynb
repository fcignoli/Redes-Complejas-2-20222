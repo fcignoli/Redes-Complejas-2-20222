{
  "cells": [
    {
      "cell_type": "markdown",
      "metadata": {
        "id": "view-in-github",
        "colab_type": "text"
      },
      "source": [
        "<a href=\"https://colab.research.google.com/github/fcignoli/Redes-Complejas-2-20222/blob/main/TPC4_Redes_Aleatorias.ipynb\" target=\"_parent\"><img src=\"https://colab.research.google.com/assets/colab-badge.svg\" alt=\"Open In Colab\"/></a>"
      ]
    },
    {
      "cell_type": "markdown",
      "metadata": {
        "id": "R7rVpVedeMNT"
      },
      "source": [
        "1)Arme  un  código  para  generar  una  red  aleatoria  tipo  Erdos  Renyi,  con *n* cantidad  de  nodos  y aproximadamente *m* cantidad de enlaces. Este tipo de red consiste en tomar *n* nodos y enlazar cada parcon una probabilidad *p*."
      ]
    },
    {
      "cell_type": "code",
      "execution_count": null,
      "metadata": {
        "colab": {
          "base_uri": "https://localhost:8080/"
        },
        "id": "dPmRyAgQes9i",
        "outputId": "82d47886-e978-45e6-f48a-0b35c0e658c4"
      },
      "outputs": [
        {
          "output_type": "stream",
          "name": "stdout",
          "text": [
            "Looking in indexes: https://pypi.org/simple, https://us-python.pkg.dev/colab-wheels/public/simple/\n",
            "Collecting plfit\n",
            "  Downloading plfit-1.0.3.tar.gz (193 kB)\n",
            "\u001b[K     |████████████████████████████████| 193 kB 8.3 MB/s \n",
            "\u001b[?25hRequirement already satisfied: numpy in /usr/local/lib/python3.7/dist-packages (from plfit) (1.21.6)\n",
            "Requirement already satisfied: cython in /usr/local/lib/python3.7/dist-packages (from plfit) (0.29.32)\n",
            "Building wheels for collected packages: plfit\n",
            "  Building wheel for plfit (setup.py) ... \u001b[?25l\u001b[?25hdone\n",
            "  Created wheel for plfit: filename=plfit-1.0.3-cp37-cp37m-linux_x86_64.whl size=124666 sha256=52537f01df4423f4f12f36fe36de5361f24d77f2c14e6bca18cb80c176baa5d8\n",
            "  Stored in directory: /root/.cache/pip/wheels/44/c5/30/2761386f6aea1d7ca4ffb706f90535faa81365be034b32055a\n",
            "Successfully built plfit\n",
            "Installing collected packages: plfit\n",
            "Successfully installed plfit-1.0.3\n"
          ]
        }
      ],
      "source": [
        "import random as rm\n",
        "import networkx as nx\n",
        "import matplotlib.pylab as plt\n",
        "!pip install plfit\n",
        "import numpy as np\n",
        "import plfit"
      ]
    },
    {
      "cell_type": "code",
      "execution_count": null,
      "metadata": {
        "id": "o6y47_Q-eNhk"
      },
      "outputs": [],
      "source": [
        "def erdos_renyi(N, p):\n",
        "    e = [(i,j) for i in range(N) for j in range(i + 1, N)  if rm.random() <= p] \n",
        "    \n",
        "    G = nx.empty_graph(n = N, create_using = nx.Graph) # El grafo vacío\n",
        "    G.add_edges_from(e) # Agregamos los enlaces\n",
        "\n",
        "    return G"
      ]
    },
    {
      "cell_type": "markdown",
      "metadata": {
        "id": "whS7XTCehagi"
      },
      "source": [
        "a) Arme una red de 𝑛 = 10000 nodos y muestre que cumpla 𝑚 ≅ 𝑝𝑛(𝑛 − 1)/2.\n",
        "¿Por qué vale esta relación?"
      ]
    },
    {
      "cell_type": "code",
      "execution_count": null,
      "metadata": {
        "id": "C5Ea6DNwfwM7"
      },
      "outputs": [],
      "source": [
        "N = 10000\n",
        "p = 10 ** (-3) #cuando mas chico sea p mas chica sera la componente gigante\n",
        "\n",
        "\n",
        "G = erdos_renyi(N, p)\n",
        "\n",
        "pos = nx.layout.fruchterman_reingold_layout(G)\n",
        "\n",
        "#fig, ax = plt.subplots(figsize = (10, 10), )\n",
        "\n",
        "#nx.draw_networkx_nodes(G, pos = pos, label = False, ax = ax, node_size = 10)\n",
        "#nx.draw_networkx_edges(G, pos = pos, ax = ax)\n",
        "\n",
        "#ax.axis('off')\n",
        "#plt.show()"
      ]
    },
    {
      "cell_type": "code",
      "execution_count": null,
      "metadata": {
        "id": "5s2y8h6ghsW7",
        "colab": {
          "base_uri": "https://localhost:8080/"
        },
        "outputId": "0d9e0488-42bf-402e-e896-9872c195245f"
      },
      "outputs": [
        {
          "output_type": "stream",
          "name": "stdout",
          "text": [
            "El m de la red es 49787 , el m_aprox es 49995.0\n"
          ]
        }
      ],
      "source": [
        "m=len(G.edges.data()) #el valor de m\n",
        "m_aprox=p*N*(N-1)/2\n",
        "\n",
        "print('El m de la red es',m,', el m_aprox es',m_aprox)"
      ]
    },
    {
      "cell_type": "markdown",
      "metadata": {
        "id": "6WW2NtRblbCW"
      },
      "source": [
        "b)Muestra que esta red cumple 〈𝑘𝑖 〉 = 𝑝(𝑛 − 1). ¿Por qué vale esta relación?"
      ]
    },
    {
      "cell_type": "code",
      "execution_count": null,
      "metadata": {
        "id": "iIEP5eA4jbpa",
        "colab": {
          "base_uri": "https://localhost:8080/"
        },
        "outputId": "87c2896f-c8e4-4429-f264-f477ea0fe1be"
      },
      "outputs": [
        {
          "output_type": "stream",
          "name": "stdout",
          "text": [
            "El grado medio de la red vale  9.9574 si hacemos el calculo obtenemos 9.999\n"
          ]
        }
      ],
      "source": [
        "k_aux=list(G.degree())\n",
        "#veamos el grado medio\n",
        "k=[]\n",
        "for i in np.arange(0,len(k_aux),1):\n",
        "  j = np.array([k_aux[i][1]])\n",
        "  k = np.concatenate((k, j),axis=0)\n",
        "k_medio=np.mean(k)\n",
        "k_aprox=p*(N-1)\n",
        "print('El grado medio de la red vale ',k_medio, 'si hacemos el calculo obtenemos',k_aprox)"
      ]
    },
    {
      "cell_type": "code",
      "execution_count": null,
      "metadata": {
        "id": "zySjNS4KmiHx",
        "colab": {
          "base_uri": "https://localhost:8080/"
        },
        "outputId": "539fe0d6-f53e-4247-fc79-001cc8a58ce8"
      },
      "outputs": [
        {
          "output_type": "stream",
          "name": "stdout",
          "text": [
            "El m de la red es 49998 , el m_aprox es 49995.0\n",
            "El grado medio de la red vale  9.9996 si hacemos el calculo obtenemos 9.999\n"
          ]
        }
      ],
      "source": [
        "#Comparemos con la red de Erdos Rengi de Networkx\n",
        "\n",
        "F=nx.erdos_renyi_graph(N, p)\n",
        "m=len(F.edges.data()) #el valor de m\n",
        "m_aprox=p*N*(N-1)/2\n",
        "\n",
        "print('El m de la red es',m,', el m_aprox es',m_aprox)\n",
        "k_aux=list(F.degree())\n",
        "#veamos el grado medio\n",
        "k=[]\n",
        "for i in np.arange(0,len(k_aux),1):\n",
        "  j = np.array([k_aux[i][1]])\n",
        "  k = np.concatenate((k, j),axis=0)\n",
        "k_medio=np.mean(k)\n",
        "k_aprox=p*(N-1)\n",
        "print('El grado medio de la red vale ',k_medio, 'si hacemos el calculo obtenemos',k_aprox)"
      ]
    },
    {
      "cell_type": "markdown",
      "metadata": {
        "id": "wpOLwtbDrlRw"
      },
      "source": [
        "Todo es consistente con lo obtenido anteriormente con nuestro algoritmo."
      ]
    },
    {
      "cell_type": "markdown",
      "metadata": {
        "id": "SFoQc6d7sSBn"
      },
      "source": [
        "2)Arme un código para generar una red aleatoria, con 𝑛 cantidad de nodos y un grado inicial fijo 𝑘0\n",
        "igual para cada nodo. Este tipo de red consiste en comenzar con 𝑘0 + 1 nodos de grado 𝑘0 e ir\n",
        "agregando un nodo de grado 𝑘0 en cada paso. Los nodos ya agregados irán aumentando su grado\n",
        "al conectarse con los nodos nuevos que se vayan agregando. La manera de conectar un nodo\n",
        "nuevo a los existentes es aleatoria, donde el enlace entre el nuevo nodo y uno existente ocurre\n",
        "con igual probabilidad para todos los nodos existentes. Es decir, la probabilidad de que el nodo\n",
        "nuevo se enlace a uno existente (𝑖) es: 𝑃𝑖 = 1/𝑛𝑖 . Donde 𝑛𝑖 son todos los nodos existentes en ese\n",
        "paso"
      ]
    },
    {
      "cell_type": "code",
      "execution_count": null,
      "metadata": {
        "id": "ycC0Bd0ereZ8"
      },
      "outputs": [],
      "source": [
        "#lo que nos piden es similar a Barabasi pero con con el weights muteado\n",
        "def red_nueva(m0, m, N, id_followed_nodes = []):\n",
        "    \"\"\"\n",
        "    m0 : número inicial de nodos\n",
        "    m : número de links con el que se incorpora un nuevo nodo\n",
        "    N : número de nodos final\n",
        "    \"\"\"\n",
        "\n",
        "    G = nx.complete_graph(m0, create_using = nx.Graph)\n",
        "    Nt = G.number_of_nodes()\n",
        "\n",
        "    while Nt <= N:\n",
        "        Nodes_t = list(G.nodes())\n",
        "        edges_t = G.number_of_edges()\n",
        "        degrees_t = np.array(list(dict(G.degree()).values()))\n",
        "        \n",
        "\n",
        "        new_edges = [(Nt, i) for i in rm.choices(Nodes_t, # La población de la cual tomaremos una muestra\n",
        "                                                 #weights = degrees_t / (2 * edges_t), # Los pesos con los que muestrearemos\n",
        "                                                 k = m # El tamaño de la muestra                                                      \n",
        "                                                 )\n",
        "                                                 ]\n",
        "\n",
        "#        new_edges = [(Nt, i) for i in rm.sample([i for i, k in enumerate(degrees_t) for j in range(k)]\n",
        "#                                               ,k = m)]                                               \n",
        "        G.add_node(Nt)\n",
        "        G.add_edges_from(new_edges)\n",
        "        Nt = G.number_of_nodes()\n",
        "        if len(id_followed_nodes) != 0:\n",
        "            for id in id_followed_nodes:\n",
        "                if id in G.nodes():\n",
        "                    G.nodes[id][Nt - m0] = G.degree(id)\n",
        "    return G"
      ]
    },
    {
      "cell_type": "markdown",
      "metadata": {
        "id": "XSrRvqKpxpE0"
      },
      "source": [
        "3)Arme un código para generar una red aleatoria tipo Barabasi, con 𝑛 cantidad de nodos y un grado\n",
        "inicial fijo 𝑘0 igual para cada nodo. Este tipo de red consiste en comenzar con pocos nodos de\n",
        "grado 𝑘0 e ir agregando un nodo de grado 𝑘 en cada paso. Los nodos ya agregados irán\n",
        "aumentando su grado al conectarse con los nodos nuevos que se vayan agregando. La manera de\n",
        "conectar un nodo nuevo a los existentes es aleatoria, determinada por una probabilidad\n",
        "proporcional al grado de cada nodo existente. Es decir, la probabilidad de que el nodo nuevo se\n",
        "enlace a uno existente (𝑖) es: 𝑃𝑖 = 𝑘𝑖 / ∑𝑛𝑗=1 𝑘𝑗 . Donde la sumatoria es sobre todos los nodos\n",
        "existentes 𝑛."
      ]
    },
    {
      "cell_type": "code",
      "execution_count": null,
      "metadata": {
        "id": "dGEdfWgbuA5p"
      },
      "outputs": [],
      "source": [
        "#Usamos la propuesta de clase\n",
        "def barabasi_albert(m0, m, N, id_followed_nodes = []):\n",
        "    \"\"\"\n",
        "    m0 : número inicial de nodos\n",
        "    m : número de links con el que se incorpora un nuevo nodo\n",
        "    N : número de nodos final\n",
        "    \"\"\"\n",
        "\n",
        "    G = nx.complete_graph(m0, create_using = nx.Graph)\n",
        "    Nt = G.number_of_nodes()\n",
        "\n",
        "    while Nt <= N:\n",
        "        Nodes_t = list(G.nodes())\n",
        "        edges_t = G.number_of_edges()\n",
        "        degrees_t = np.array(list(dict(G.degree()).values()))\n",
        "        \n",
        "\n",
        "        new_edges = [(Nt, i) for i in rm.choices(Nodes_t, # La población de la cual tomaremos una muestra\n",
        "                                                 weights = degrees_t / (2 * edges_t), # Los pesos con los que muestrearemos\n",
        "                                                 k = m # El tamaño de la muestra                                                      \n",
        "                                                 )\n",
        "                                                 ]\n",
        "\n",
        "#        new_edges = [(Nt, i) for i in rm.sample([i for i, k in enumerate(degrees_t) for j in range(k)]\n",
        "#                                               ,k = m)]                                               \n",
        "        G.add_node(Nt)\n",
        "        G.add_edges_from(new_edges)\n",
        "        Nt = G.number_of_nodes()\n",
        "        if len(id_followed_nodes) != 0:\n",
        "            for id in id_followed_nodes:\n",
        "                if id in G.nodes():\n",
        "                    G.nodes[id][Nt - m0] = G.degree(id)\n",
        "    return G"
      ]
    },
    {
      "cell_type": "code",
      "execution_count": null,
      "metadata": {
        "colab": {
          "base_uri": "https://localhost:8080/",
          "height": 287
        },
        "id": "kNZcyML9yEMT",
        "outputId": "53126809-ddfa-40b7-d807-d91e6c85cb54"
      },
      "outputs": [
        {
          "output_type": "display_data",
          "data": {
            "text/plain": [
              "<Figure size 432x288 with 1 Axes>"
            ],
            "image/png": "[encoded data removed]"
          },
          "metadata": {
            "needs_background": "light"
          }
        }
      ],
      "source": [
        "#Ejemplo de clase\n",
        "G = barabasi_albert(10, 3, 10 ** 3)\n",
        "grado = list(dict(G.degree()).values())\n",
        "fiteo = plfit.plfit(grado)\n",
        "gamma = fiteo._alpha\n",
        "kmin = fiteo._xmin\n",
        "\n",
        "fig, ax = plt.subplots()\n",
        "fiteo.plotpdf()\n",
        "ax.set_title(f'$\\gamma = {round(gamma,2)}$, '+ '$k_{min}$' + f'$={kmin}$')\n",
        "plt.show()"
      ]
    },
    {
      "cell_type": "markdown",
      "metadata": {
        "id": "bVoDEpyGyPPW"
      },
      "source": [
        "a) Arme una red de 𝑛 = 10000 nodos y muestre que cumpla 𝑚 ≅ 𝑘0 𝑛.\n",
        "¿Por qué vale esta relación?"
      ]
    },
    {
      "cell_type": "code",
      "execution_count": null,
      "metadata": {
        "colab": {
          "base_uri": "https://localhost:8080/",
          "height": 304
        },
        "id": "HyqRG5x7yJZ1",
        "outputId": "d63bef95-ff91-41a6-86ee-f49ff30e01bd"
      },
      "outputs": [
        {
          "output_type": "display_data",
          "data": {
            "text/plain": [
              "<Figure size 432x288 with 1 Axes>"
            ],
            "image/png": "[encoded data removed]"
          },
          "metadata": {
            "needs_background": "light"
          }
        },
        {
          "output_type": "stream",
          "name": "stdout",
          "text": [
            "Veamos que m= 50018 lo que es aproximadamente igual a k_0 N= 50000\n"
          ]
        }
      ],
      "source": [
        "G = barabasi_albert(25, 5, 10000) #decido poner estos parametros fuera de la n fija\n",
        "grado = list(dict(G.degree()).values())\n",
        "fiteo = plfit.plfit(grado)\n",
        "gamma = fiteo._alpha\n",
        "kmin = fiteo._xmin\n",
        "\n",
        "fig, ax = plt.subplots()\n",
        "fiteo.plotpdf()\n",
        "ax.set_title(f'$\\gamma = {round(gamma,2)}$, '+ '$k_{min}$' + f'$={kmin}$')\n",
        "plt.show()\n",
        "\n",
        "print('Veamos que m=',len(G.edges.data()), 'lo que es aproximadamente igual a k_0 N=',5*10000)"
      ]
    },
    {
      "cell_type": "markdown",
      "metadata": {
        "id": "knf_Jt6ht50G"
      },
      "source": [
        "4)Usando los 3 generadores  de  redes  de  los  ejercicios  1),  2)  y  3), genere 4redes  para  cada  uno donde 𝑚 y 𝑛 sean similares a aquellos delas redes de datos numeradas al comienzo."
      ]
    },
    {
      "cell_type": "code",
      "execution_count": null,
      "metadata": {
        "colab": {
          "base_uri": "https://localhost:8080/"
        },
        "id": "s2GZzOXTzYS0",
        "outputId": "ab815491-53af-4df3-cadb-82016bb5cdb8"
      },
      "outputs": [
        {
          "output_type": "stream",
          "name": "stderr",
          "text": [
            "100%|██████████| 9/9 [00:00<00:00, 655.10it/s]\n"
          ]
        },
        {
          "output_type": "stream",
          "name": "stdout",
          "text": [
            "archivos cargados\n"
          ]
        }
      ],
      "source": [
        "from urllib.request import urlopen\n",
        "from io import BytesIO\n",
        "from zipfile import ZipFile\n",
        "from tqdm import tqdm\n",
        "\n",
        "\n",
        "url = \"http://materias.df.uba.ar/rca2022c2/files/2022/10/netscience.zip\"\n",
        "with urlopen(url) as zipresp:\n",
        "    with ZipFile(BytesIO(zipresp.read())) as zfile:\n",
        "       archivos = zfile.namelist()\n",
        "       for archivo in tqdm(archivos):\n",
        "           if archivo.endswith('.txt'):\n",
        "               zfile.extract(archivo, '/content')\n",
        "           if archivo.endswith('.gml'):\n",
        "               zfile.extract(archivo, '/content')\n",
        "print('archivos cargados')\n",
        "\n",
        "\n",
        "\n",
        "def abrir_txt(nombre_archivo):\n",
        "    archivo=open(nombre_archivo)\n",
        "    data=[]\n",
        "    for linea in archivo:\n",
        "        linea=linea.strip()\n",
        "        columna=linea.split()\n",
        "        data.append(columna)    \n",
        "    return data\n",
        "\n",
        "def abrir_reguly(nombre_archivo):\n",
        "    archivo = open(nombre_archivo)\n",
        "    data = []\n",
        "    for linea in archivo:\n",
        "        linea=linea.strip()\n",
        "        columna=linea.split()\n",
        "        data.append(columna)  \n",
        "    data = data[1:]\n",
        "    enlaces = []\n",
        "    for linea in data:\n",
        "      enlaces.append(linea[:2])\n",
        "    return(enlaces)\n",
        "def hacer_lista_grados(Red):\n",
        "  lista_grados=[grado for (nodo,grado) in Red.degree()]\n",
        "  return lista_grados\n",
        "\n",
        "Data_Y2H = abrir_txt('/content/yeast_Y2H.txt')\n",
        "Data_APMS = abrir_txt('/content/yeast_AP-MS.txt')\n",
        "Red_netscience=nx.read_gml('/content/netscience.gml')\n",
        "#Data_electrica = abrir_txt('/content/power_enlaces.txt')\n",
        "\n",
        "Red_netscience=nx.read_gml('/content/netscience.gml')\n",
        "Red_Y2H=nx.Graph()\n",
        "Red_Y2H.add_edges_from(Data_Y2H)\n",
        "Red_APMS=nx.Graph()\n",
        "Red_APMS.add_edges_from(Data_APMS)\n",
        "#Red_electrica=nx.Graph()\n",
        "#Red_electrica.add_edges_from(Data_electrica)\n",
        "#Red_netscience=nx.Graph()\n",
        "#Red_netscience.add_edges_from(Data_netscience)\n",
        "\n",
        "\n",
        "#Armamos una lista que contenga todos los grados de los nodos\n",
        "lista_grados_Y2H = hacer_lista_grados(Red_Y2H)\n",
        "lista_grados_APMS = hacer_lista_grados(Red_APMS)\n",
        "lista_grados_netscience= hacer_lista_grados(Red_netscience)\n"
      ]
    },
    {
      "cell_type": "code",
      "source": [
        "#como el de data electrica estaba en un rar y no sabia abrirlo directo lo baje a mi drive y lo abro desde ahi\n",
        "from google.colab import drive\n",
        "drive.mount('/content/drive')\n",
        "Data_electrica = abrir_txt('/content/drive/MyDrive//Redes/power_enlaces.txt')\n",
        "\n",
        "Red_electrica=nx.Graph()\n",
        "Red_electrica.add_edges_from(Data_electrica)\n",
        "lista_grados_electrica = hacer_lista_grados(Red_electrica)"
      ],
      "metadata": {
        "colab": {
          "base_uri": "https://localhost:8080/"
        },
        "id": "jj822qa_mY2O",
        "outputId": "d0611837-9b2b-4961-d68c-060a41180387"
      },
      "execution_count": null,
      "outputs": [
        {
          "output_type": "stream",
          "name": "stdout",
          "text": [
            "Mounted at /content/drive\n"
          ]
        }
      ]
    },
    {
      "cell_type": "code",
      "execution_count": null,
      "metadata": {
        "colab": {
          "base_uri": "https://localhost:8080/",
          "height": 357
        },
        "id": "yoBbDDgGu_fl",
        "outputId": "cd846b1a-c348-4216-fce7-de28be002af7"
      },
      "outputs": [
        {
          "output_type": "stream",
          "name": "stderr",
          "text": [
            "/usr/local/lib/python3.7/dist-packages/ipykernel_launcher.py:19: RuntimeWarning: invalid value encountered in true_divide\n"
          ]
        },
        {
          "output_type": "display_data",
          "data": {
            "text/plain": [
              "<Figure size 1440x360 with 4 Axes>"
            ],
            "image/png": "[encoded data removed]"
          },
          "metadata": {
            "needs_background": "light"
          }
        }
      ],
      "source": [
        "#calcumemos m y n para cada red dato y generemos las redes pedidas\n",
        "\n",
        "#empecemos con Y2H\n",
        "# yo necesito saber p, pero voy a usar las aproximaciones que utilizamos antes\n",
        "m=len(Red_Y2H.edges.data())\n",
        "n=len(Red_Y2H.nodes)\n",
        "p=(2*m)/(n*(n-1)) #despejo p de la relacion que comprobe antes\n",
        "Y2H_erdos_renyi = erdos_renyi(n, p)\n",
        "Y2H_red_nueva = red_nueva(1, 1, n) # n conocido m_0 y m juego un poco\n",
        "Y2H_barabasi =  barabasi_albert(1, 1, n) # n conocido m_0 y m juego un poco\n",
        "\n",
        "lista_grados_Y2H = hacer_lista_grados(Red_Y2H)\n",
        "lista_grados_Y2H_erdos_renyi = hacer_lista_grados(Y2H_erdos_renyi)\n",
        "lista_grados_Y2H_red_nueva = hacer_lista_grados(Y2H_red_nueva)\n",
        "lista_grados_Y2H_barabasi = hacer_lista_grados(Y2H_barabasi)\n",
        "\n",
        "\n",
        "lista = [lista_grados_Y2H,lista_grados_Y2H_erdos_renyi, lista_grados_Y2H_red_nueva,lista_grados_Y2H_barabasi ]\n",
        "nombres = ['lista_grados_Y2H','lista_grados_Y2H_erdos_renyi', 'lista_grados_Y2H_red_nueva','lista_grados_Y2H_barabasi']\n",
        "#escala logaritmica\n",
        "plt.figure(figsize=(20,5))\n",
        "bines=np.logspace(0,np.log10(np.max(lista[0])),13)\n",
        "ax1=plt.subplot(1,4,1)\n",
        "ax1.set_title(nombres[0])\n",
        "ax1.hist(lista[0],bines)\n",
        "ax1.set_xscale('log');plt.yscale('log')\n",
        "ax2=plt.subplot(1,4,2)\n",
        "ax2.hist(lista[1],bines)\n",
        "ax2.set_xscale('log');plt.yscale('log')\n",
        "ax2.set_title(nombres[1])\n",
        "ax3=plt.subplot(1,4,3)\n",
        "ax3.hist(lista[2],bines)\n",
        "ax3.set_xscale('symlog');plt.yscale('symlog')\n",
        "ax3.set_title(nombres[2])\n",
        "ax4=plt.subplot(1,4,4)\n",
        "ax4.hist(lista[3],bines)\n",
        "ax4.set_xscale('log');plt.yscale('log')\n",
        "ax4.set_title(nombres[3])\n",
        "plt.show()\n"
      ]
    },
    {
      "cell_type": "markdown",
      "source": [
        "Podemos ver que Barabasi es el modelo con el que mejor simulamos una red aleatoria similar a la de nuestro dataset. Es llamativo que en Erdos-Renyi, ni siquiera es correcto el orden de magnitud de la distribución de grado."
      ],
      "metadata": {
        "id": "xrwCvqw5zCsK"
      }
    },
    {
      "cell_type": "code",
      "execution_count": null,
      "metadata": {
        "colab": {
          "base_uri": "https://localhost:8080/",
          "height": 357
        },
        "id": "yzGMsnosjvfW",
        "outputId": "fd465cc8-8fed-4e7b-f5b5-956eda48ebd9"
      },
      "outputs": [
        {
          "output_type": "stream",
          "name": "stderr",
          "text": [
            "/usr/local/lib/python3.7/dist-packages/ipykernel_launcher.py:19: RuntimeWarning: invalid value encountered in true_divide\n"
          ]
        },
        {
          "output_type": "display_data",
          "data": {
            "text/plain": [
              "<Figure size 1440x360 with 4 Axes>"
            ],
            "image/png": "[encoded data removed]"
          },
          "metadata": {
            "needs_background": "light"
          }
        }
      ],
      "source": [
        "#APMS\n",
        "# yo necesito saber p, pero voy a usar las aproximaciones que utilizamos antes\n",
        "m=len(Red_APMS.edges.data())\n",
        "n=len(Red_APMS.nodes)\n",
        "p=(2*m)/(n*(n-1)) #despejo p de la relacion que comprobe antes\n",
        "APMS_erdos_renyi = erdos_renyi(n, p)\n",
        "APMS_red_nueva = red_nueva(1,2,n)\n",
        "APMS_barabasi = barabasi_albert(1, 1, n) #esto hay que ver por lo que unico que puedo fijar conocido es n\n",
        "\n",
        "lista_grados_APMS = hacer_lista_grados(Red_APMS)\n",
        "lista_grados_APMS_erdos_renyi = hacer_lista_grados(APMS_erdos_renyi)\n",
        "lista_grados_APMS_red_nueva = hacer_lista_grados(APMS_red_nueva)\n",
        "lista_grados_APMS_barabasi = hacer_lista_grados(APMS_barabasi)\n",
        "\n",
        "\n",
        "lista = [lista_grados_APMS,lista_grados_APMS_erdos_renyi, lista_grados_APMS_red_nueva,lista_grados_APMS_barabasi ]\n",
        "nombres = ['lista_grados_APMS','lista_grados_APMS_erdos_renyi', 'lista_grados_APMS_red_nueva','lista_grados_APMS_barabasi']\n",
        "#escala logaritmica\n",
        "plt.figure(figsize=(20,5))\n",
        "bines=np.logspace(0,np.log10(np.max(lista[0])),13)\n",
        "ax1=plt.subplot(1,4,1)\n",
        "ax1.set_title(nombres[0])\n",
        "ax1.hist(lista[0],bines)\n",
        "ax1.set_xscale('log');plt.yscale('log')\n",
        "ax2=plt.subplot(1,4,2)\n",
        "ax2.hist(lista[1],bines)\n",
        "ax2.set_xscale('log');plt.yscale('log')\n",
        "ax2.set_title(nombres[1])\n",
        "ax3=plt.subplot(1,4,3)\n",
        "ax3.hist(lista[2],bines)\n",
        "ax3.set_xscale('log');plt.yscale('log')\n",
        "ax3.set_title(nombres[2])\n",
        "ax4=plt.subplot(1,4,4)\n",
        "ax4.hist(lista[3],bines)\n",
        "ax4.set_xscale('log');plt.yscale('log')\n",
        "ax4.set_title(nombres[3])\n",
        "plt.show()\n"
      ]
    },
    {
      "cell_type": "markdown",
      "source": [
        "En este caso ningun modelo nos devuelve algo similar a lo esperado."
      ],
      "metadata": {
        "id": "LKAI74m-zVnQ"
      }
    },
    {
      "cell_type": "code",
      "execution_count": null,
      "metadata": {
        "id": "q4WWcquqxnCj",
        "colab": {
          "base_uri": "https://localhost:8080/",
          "height": 357
        },
        "outputId": "878d97a2-780c-4c13-d817-bd79e19967ab"
      },
      "outputs": [
        {
          "output_type": "stream",
          "name": "stderr",
          "text": [
            "/usr/local/lib/python3.7/dist-packages/ipykernel_launcher.py:19: RuntimeWarning: invalid value encountered in true_divide\n"
          ]
        },
        {
          "output_type": "display_data",
          "data": {
            "text/plain": [
              "<Figure size 1440x360 with 4 Axes>"
            ],
            "image/png": "[encoded data removed]"
          },
          "metadata": {
            "needs_background": "light"
          }
        }
      ],
      "source": [
        "#netscience\n",
        "# yo necesito saber p, pero voy a usar las aproximaciones que utilizamos antes\n",
        "m=len(Red_netscience.edges.data())\n",
        "n=len(Red_netscience.nodes)\n",
        "p=(2*m)/(n*(n-1)) #despejo p de la relacion que comprobe antes\n",
        "netscience_erdos_renyi = erdos_renyi(n, p)\n",
        "netscience_red_nueva = red_nueva(1,2,n)\n",
        "netscience_barabasi = barabasi_albert(1, 1, n) #esto hay que ver por lo que unico que puedo fijar conocido es n\n",
        "\n",
        "lista_grados_netscience = hacer_lista_grados(Red_netscience)\n",
        "lista_grados_netscience_erdos_renyi = hacer_lista_grados(netscience_erdos_renyi)\n",
        "lista_grados_netscience_red_nueva = hacer_lista_grados(netscience_red_nueva)\n",
        "lista_grados_netscience_barabasi = hacer_lista_grados(netscience_barabasi)\n",
        "\n",
        "\n",
        "lista = [lista_grados_netscience,lista_grados_netscience_erdos_renyi, lista_grados_netscience_red_nueva,lista_grados_netscience_barabasi ]\n",
        "nombres = ['lista_grados_netscience','lista_grados_netscience_erdos_renyi', 'lista_grados_netscience_red_nueva','lista_grados_netscience_barabasi']\n",
        "#escala logaritmica\n",
        "plt.figure(figsize=(20,5))\n",
        "bines=np.logspace(0,np.log10(np.max(lista[0])),13)\n",
        "ax1=plt.subplot(1,4,1)\n",
        "ax1.set_title(nombres[0])\n",
        "ax1.hist(lista[0],bines)\n",
        "ax1.set_xscale('log');plt.yscale('log')\n",
        "ax2=plt.subplot(1,4,2)\n",
        "ax2.hist(lista[1],bines)\n",
        "ax2.set_xscale('log');plt.yscale('log')\n",
        "ax2.set_title(nombres[1])\n",
        "ax3=plt.subplot(1,4,3)\n",
        "ax3.hist(lista[2],bines)\n",
        "ax3.set_xscale('log');plt.yscale('log')\n",
        "ax3.set_title(nombres[2])\n",
        "ax4=plt.subplot(1,4,4)\n",
        "ax4.hist(lista[3],bines)\n",
        "ax4.set_xscale('log');plt.yscale('log')\n",
        "ax4.set_title(nombres[3])\n",
        "plt.show()"
      ]
    },
    {
      "cell_type": "markdown",
      "source": [
        "En este caso Barabasi devuelve algo relativamente similar, pero con poca representacion para los grados mayores a 10 respecto al dataset."
      ],
      "metadata": {
        "id": "7rby70-fzcEp"
      }
    },
    {
      "cell_type": "code",
      "source": [
        "#Red_electrica\n",
        "# yo necesito saber p, pero voy a usar las aproximaciones que utilizamos antes\n",
        "m=len(Red_electrica.edges.data())\n",
        "n=len(Red_electrica.nodes)\n",
        "p=(2*m)/(n*(n-1)) #despejo p de la relacion que comprobe antes\n",
        "electrica_erdos_renyi = erdos_renyi(n, p)\n",
        "electrica_red_nueva = red_nueva(1,2,n)\n",
        "electrica_barabasi = barabasi_albert(1, 2, n) #esto hay que ver por lo que unico que puedo fijar conocido es n\n",
        "\n",
        "lista_grados_electrica = hacer_lista_grados(Red_electrica)\n",
        "lista_grados_electrica_erdos_renyi = hacer_lista_grados(electrica_erdos_renyi)\n",
        "lista_grados_electrica_red_nueva = hacer_lista_grados(electrica_red_nueva)\n",
        "lista_grados_electrica_barabasi = hacer_lista_grados(electrica_barabasi)\n",
        "\n",
        "\n",
        "lista = [lista_grados_electrica,lista_grados_electrica_erdos_renyi, lista_grados_electrica_red_nueva,lista_grados_electrica_barabasi ]\n",
        "nombres = ['lista_grados_electrica','lista_grados_electrica_erdos_renyi', 'lista_grados_electrica_red_nueva','lista_grados_electrica_barabasi']\n",
        "#escala logaritmica\n",
        "plt.figure(figsize=(20,5))\n",
        "bines=np.logspace(0,np.log10(np.max(lista[0])),13)\n",
        "ax1=plt.subplot(1,4,1)\n",
        "ax1.set_title(nombres[0])\n",
        "ax1.hist(lista[0],bines)\n",
        "ax1.set_xscale('log');plt.yscale('log')\n",
        "ax2=plt.subplot(1,4,2)\n",
        "ax2.hist(lista[1],bines)\n",
        "ax2.set_xscale('log');plt.yscale('log')\n",
        "ax2.set_title(nombres[1])\n",
        "ax3=plt.subplot(1,4,3)\n",
        "ax3.hist(lista[2],bines)\n",
        "ax3.set_xscale('log');plt.yscale('log')\n",
        "ax3.set_title(nombres[2])\n",
        "ax4=plt.subplot(1,4,4)\n",
        "ax4.hist(lista[3],bines)\n",
        "ax4.set_xscale('log');plt.yscale('log')\n",
        "ax4.set_title(nombres[3])\n",
        "plt.show()"
      ],
      "metadata": {
        "colab": {
          "base_uri": "https://localhost:8080/",
          "height": 357
        },
        "id": "6Ytg-VuivFk9",
        "outputId": "d426497e-990f-4a01-8da6-cc15f3372093"
      },
      "execution_count": null,
      "outputs": [
        {
          "output_type": "stream",
          "name": "stderr",
          "text": [
            "/usr/local/lib/python3.7/dist-packages/ipykernel_launcher.py:19: RuntimeWarning: invalid value encountered in true_divide\n"
          ]
        },
        {
          "output_type": "display_data",
          "data": {
            "text/plain": [
              "<Figure size 1440x360 with 4 Axes>"
            ],
            "image/png": "[encoded data removed]"
          },
          "metadata": {
            "needs_background": "light"
          }
        }
      ]
    },
    {
      "cell_type": "markdown",
      "source": [
        "En este caso, se puede decir que Erdos Renyi devuelve aproximadamente la misma forma, pero con infrarepresentación de grados mayores a 10. En cambio, Barabasi y la Red del punto 2, no logran replicar el comportamiento para grados bajos."
      ],
      "metadata": {
        "id": "cu616c-_zp2C"
      }
    },
    {
      "cell_type": "markdown",
      "source": [
        "Como se ve en cada situacion no es posible determinar con que modelo podremos hacer una mejor simulacion de cada red. Haciendo una analisis rápido, en los primeros tres datasets, el modelo de Erdos Renyi da resultados batsante pobres. En cambio, en el ultimo caso, puede replicar la forma de la distribucion de grado mejor que los otros dos. El modelo del punto 2, que nombramos Red nueva, nunca logra simular la dinamica de la distribucion de grados de ninguna de las redes. Con el modelo de Barabasi, si tenemos la mejor adapatación con el dataset Y2H y Netscience. "
      ],
      "metadata": {
        "id": "2fCh9ieTwDsF"
      }
    },
    {
      "cell_type": "markdown",
      "metadata": {
        "id": "oiB1y5IHeQ8V"
      },
      "source": [
        "## Configuration Model"
      ]
    },
    {
      "cell_type": "markdown",
      "metadata": {
        "id": "qOfpyK44mdvD"
      },
      "source": [
        "### El Modelo"
      ]
    },
    {
      "cell_type": "markdown",
      "metadata": {
        "id": "2iHbG5sDexRx"
      },
      "source": [
        "En otro universos de modelos, donde lo que se busca no es ya explicar el surgimiento de una red, si no que se busca establecer la relación entre determinadas características topológicas y otras, surge el modelo de Configuration Model.\n",
        "\n",
        "Dicho modelo parte de una secuencia de grados $(d_i)_{1 \\leq i \\leq N}$, donde $N$ es el número de nodos y $d_i$ es el grado del nodo i-ésimo. A partir de dicha secuencia, si $d$ cumple con determinadas condiciones, se puede contruir un grafo tal que los grados de los nodos sean exactame los que se establece en la secuencia $(d_i)_{1 \\leq i \\leq N}$. Sólo pidiendo que $\\sum_i d_i = 2 m$ un número par, el grafo que se obtiene, puede contener autoenlaces y enlaces múltiples. El modelo consiste en pensar, primero, a cada nodo con las $k$ medias aristas que le corresponden, y luego, conectar todas las medias aristas entre sí, de forma tal que ninguna quede desconectada.\n",
        "\n",
        "Este modelo, puede incluirse dentro de una amplia gama de modelos que surgen de maximizar la entropía asociada a la probabilidad de que un grafo $G$ ocurra, sometido a vínculos fuertes. Esto sería en cierta medida equivalente a lo que en Física se conoce como Ensamble Microcanónico.\n",
        "\n",
        "Lo interesante de este modelo es que la secuencia de grado $d$ puede ser algo ya dado o bien puede ser una realización de una determinada distribución de probabilidades. Así, tenemos dos instancias de aleatoriedad: a al hora de armar $d$ y a la hora de armar el grafo $G$.\n"
      ]
    },
    {
      "cell_type": "markdown",
      "metadata": {
        "id": "7hs6XCD-mgYY"
      },
      "source": [
        "### El Algoritmo"
      ]
    },
    {
      "cell_type": "markdown",
      "metadata": {
        "id": "wLQZlj8Bmkcr"
      },
      "source": [
        "Veamos entonces cómo pensamos este algoritmo. Sea $(d_i)_{1 \\leq i \\leq N}$:\n",
        "\n",
        "\n",
        "\n",
        "1.   En un objeto, hacemos que cada nodo aparezca $k$ veces, donde $k$ es su grado\n",
        "2.   Dividimos dicho objeto en $2$.\n",
        "3.   Tomamos alguna de las dos partes y la ordenamos de forma aleatoria\n",
        "4.   Concatenamos ambos objetos, de forma tal que pasemos a tener un objeto cuyos elementos sean las tuplas que indican los enlaces.\n",
        "5.   Alternativamente podríamos incluir en el algoritmo una condición que apunte a quedarse con grafos que tengan bajo porcentaje de autoenlaces o enlaces múltiples.\n",
        "\n",
        "Veamos entonces una propuesta de implementación\n",
        "\n"
      ]
    },
    {
      "cell_type": "code",
      "execution_count": null,
      "metadata": {
        "colab": {
          "base_uri": "https://localhost:8080/",
          "height": 319
        },
        "id": "JaBr-5HhtheM",
        "outputId": "d1302537-d8fd-4f09-fef2-c77478cb13e6"
      },
      "outputs": [
        {
          "data": {
            "image/png": "[encoded data removed]",
            "text/plain": [
              "<Figure size 432x288 with 1 Axes>"
            ]
          },
          "metadata": {},
          "output_type": "display_data"
        }
      ],
      "source": [
        "def cm(d):\n",
        "    assert sum(d) % 2 == 0\n",
        "    autoEnlace = True\n",
        "    enlaceMultiple = True\n",
        "    while autoEnlace == True or enlaceMultiple == True:\n",
        "        e = [i for i, ki in enumerate(d) for j in range(ki)]\n",
        "        rm.shuffle(e)\n",
        "        e1, e2 = e[:len(e) // 2], e[len(e) // 2:]\n",
        "        e = [(i,j) for i, j in zip(e1, e2)]\n",
        "        G = nx.empty_graph(n = len(d), create_using = nx.MultiGraph)\n",
        "        G.add_edges_from(e)\n",
        "        G = nx.Graph(G)\n",
        "        autoEnlace = False # suponemos que no tiene autoenlaces\n",
        "        for i in list(G.edges()):\n",
        "            if i[0]==i[1]:#si tiene autoenlace, se vuelve true, y entonces vuelve a comenzar el while\n",
        "                autoEnlace = True\n",
        "        enlaceMultiple = False #al igual que con autoenlace, también suponemos que no los tiene\n",
        "        count_i=0\n",
        "        count_j=0\n",
        "        for i in list(G.edges()):\n",
        "            count_i+=1\n",
        "            for j in list(G.edges()):\n",
        "                count_j+=1\n",
        "                if count_i != count_j and i[0]==j[1] and i[1]==j[0]:\n",
        "                    enlaceMultiple = True # si los tiene, se vuelve true y comenzamos otra vez el while\n",
        "                # if count_i != count_j and i[0]==j[0] and i[1]==j[1]:\n",
        "                    # enlaceMultiple = True\n",
        "    return G\n",
        "\n",
        "def secuenciaDeGrados(N):\n",
        "    result = np.random.poisson(2,N)\n",
        "    while sum(result) %2 != 0:\n",
        "        result = np.random.poisson(2,N)\n",
        "    return result\n",
        "\n",
        "d = secuenciaDeGrados(8)\n",
        "# d = [2 for i in range(20)]\n",
        "G = cm(d)\n",
        "nx.draw(G,with_labels=True)\n",
        "plt.show()\n",
        "\n"
      ]
    },
    {
      "cell_type": "code",
      "execution_count": null,
      "metadata": {
        "colab": {
          "base_uri": "https://localhost:8080/"
        },
        "id": "fNGi3VWFvCGW",
        "outputId": "51756561-be9c-4ec9-e317-d429f6b089e3"
      },
      "outputs": [
        {
          "name": "stdout",
          "output_type": "stream",
          "text": [
            "media del clustering medio de 1000 redes aleatorias 0.019360458269329237\n",
            "clustering medio de delfines 0.2589582460550202\n"
          ]
        }
      ],
      "source": [
        "\n",
        "def mean_degree(lista_de_grados): #función que me tira el promedio de grados\n",
        "    dict_de_grados = dict(lista_de_grados)\n",
        "    result=0\n",
        "    for i in range(len(dict_de_grados.values())):\n",
        "        result+=list(dict_de_grados.values())[i]\n",
        "    return result/len(dict_de_grados.values())\n",
        "\n",
        "delfines = nx.read_gml(\"/content/dolphins.gml\")\n",
        "grado_medio = mean_degree(nx.degree(delfines)) #Con este grado medio saco un lambda para calcular la media de la distribución poissoneana\n",
        "\n",
        "clustering_aleatorio = []\n",
        "for i in range(1000):\n",
        "    d = secuenciaDeGrados(62)#62 es el número de nodos de la red de delfines\n",
        "    G = cm(d)\n",
        "    clustering_aleatorio.append(nx.average_clustering(G))\n",
        "clustering_medio_aleatorio = np.mean(clustering_aleatorio)\n",
        "clustering_medio_delfines = nx.average_clustering(delfines)\n",
        "print(\"media del clustering medio de 1000 redes aleatorias\", clustering_medio_aleatorio)\n",
        "print(\"clustering medio de delfines\", clustering_medio_delfines)\n",
        "\n"
      ]
    }
  ],
  "metadata": {
    "colab": {
      "collapsed_sections": [],
      "provenance": [],
      "include_colab_link": true
    },
    "kernelspec": {
      "display_name": "Python 3",
      "name": "python3"
    },
    "language_info": {
      "name": "python"
    }
  },
  "nbformat": 4,
  "nbformat_minor": 0
}